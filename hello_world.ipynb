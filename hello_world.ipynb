{
 "cells": [
  {
   "cell_type": "code",
   "execution_count": 1,
   "id": "a19eaf9b-9847-4313-ab52-0882d782f26d",
   "metadata": {},
   "outputs": [
    {
     "name": "stdout",
     "output_type": "stream",
     "text": [
      "Hello\n"
     ]
    }
   ],
   "source": [
    "print(\"Hello\")"
   ]
  },
  {
   "cell_type": "code",
   "execution_count": 1,
   "id": "7444eec8-25de-47a3-8619-ab062828b679",
   "metadata": {},
   "outputs": [
    {
     "name": "stdout",
     "output_type": "stream",
     "text": [
      "50\n"
     ]
    }
   ],
   "source": [
    "print(6+44)"
   ]
  },
  {
   "cell_type": "markdown",
   "id": "2fc83b00-4e5a-47d4-8375-e6eff09d1e0c",
   "metadata": {},
   "source": [
    "#Addition"
   ]
  },
  {
   "cell_type": "markdown",
   "id": "a65b1511-1a7c-46f4-b696-33d099d79552",
   "metadata": {},
   "source": [
    "# Addition"
   ]
  },
  {
   "cell_type": "code",
   "execution_count": 3,
   "id": "f3c3007f-abe0-4dc7-984a-b6f4b2b38c0c",
   "metadata": {},
   "outputs": [
    {
     "name": "stdout",
     "output_type": "stream",
     "text": [
      "7\n"
     ]
    }
   ],
   "source": [
    "print(3+4)"
   ]
  },
  {
   "cell_type": "markdown",
   "id": "9e54eaea-344d-4af8-ad7b-5538d861361c",
   "metadata": {},
   "source": [
    "### add 3 numbers"
   ]
  },
  {
   "cell_type": "code",
   "execution_count": null,
   "id": "861fe502-fde0-4fcc-833c-14a27640de82",
   "metadata": {},
   "outputs": [],
   "source": [
    "print(6+7+8)"
   ]
  }
 ],
 "metadata": {
  "kernelspec": {
   "display_name": "Python 3 (ipykernel)",
   "language": "python",
   "name": "python3"
  },
  "language_info": {
   "codemirror_mode": {
    "name": "ipython",
    "version": 3
   },
   "file_extension": ".py",
   "mimetype": "text/x-python",
   "name": "python",
   "nbconvert_exporter": "python",
   "pygments_lexer": "ipython3",
   "version": "3.13.5"
  }
 },
 "nbformat": 4,
 "nbformat_minor": 5
}
